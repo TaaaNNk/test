{
 "cells": [
  {
   "cell_type": "code",
   "execution_count": 1,
   "metadata": {},
   "outputs": [],
   "source": [
    "import matplotlib.pyplot as plt\n",
    "import numpy as np\n",
    "import pandas as pd\n",
    "\n",
    "from sklearn.manifold import TSNE"
   ]
  },
  {
   "cell_type": "code",
   "execution_count": 2,
   "metadata": {},
   "outputs": [],
   "source": [
    "modification = pd.read_csv('rRNA_known.SD.csv')\n",
    "psi_modification =  modification['hgla.position'].dropna().tolist()"
   ]
  },
  {
   "cell_type": "code",
   "execution_count": 3,
   "metadata": {},
   "outputs": [],
   "source": [
    "plt.rcParams[\"figure.figsize\"] = (5, 5)\n",
    "plt.rcParams[\"figure.dpi\"] = 125\n",
    "plt.rcParams[\"font.size\"] = 14\n",
    "plt.rcParams['font.family'] = ['arial']\n",
    "plt.style.use('ggplot')\n",
    "#sns.set_style(\"whitegrid\", {'axes.grid': False})\n",
    "plt.rcParams['image.cmap'] = 'gray' # grayscale looks better"
   ]
  },
  {
   "cell_type": "code",
   "execution_count": 4,
   "metadata": {},
   "outputs": [
    {
     "name": "stdout",
     "output_type": "stream",
     "text": [
      "Index(['sample.ref', 'center.pos', 'read.seq', 'event.level', 'event.len',\n",
      "       'ref.seq', 'model.level'],\n",
      "      dtype='object')\n",
      "(2374491, 7)\n",
      "(200000, 9, 2)\n"
     ]
    }
   ],
   "source": [
    "data = pd.read_csv(\"test.hgla.liver.2.rrna.18S.T.16mers.long_nano.dat\", sep=\"\\t\")\n",
    "\n",
    "#input_data = human_data.T.to_numpy()\n",
    "data.shape\n",
    "n_samples = data.shape[1]\n",
    "print(data.columns)\n",
    "print(data.shape)\n",
    "data = data.iloc[0:200000, :]\n",
    "\n",
    "signal_dim = 9\n",
    "\n",
    "# 16 positions, 5 channels: A,C,G,T,deletion\n",
    "input_shape_signal = (data.shape[0], signal_dim, 2)\n",
    "print(input_shape_signal)"
   ]
  },
  {
   "cell_type": "code",
   "execution_count": 5,
   "metadata": {},
   "outputs": [
    {
     "data": {
      "text/html": [
       "<div>\n",
       "<style scoped>\n",
       "    .dataframe tbody tr th:only-of-type {\n",
       "        vertical-align: middle;\n",
       "    }\n",
       "\n",
       "    .dataframe tbody tr th {\n",
       "        vertical-align: top;\n",
       "    }\n",
       "\n",
       "    .dataframe thead th {\n",
       "        text-align: right;\n",
       "    }\n",
       "</style>\n",
       "<table border=\"1\" class=\"dataframe\">\n",
       "  <thead>\n",
       "    <tr style=\"text-align: right;\">\n",
       "      <th></th>\n",
       "      <th>sample.ref</th>\n",
       "      <th>center.pos</th>\n",
       "      <th>read.seq</th>\n",
       "      <th>event.level</th>\n",
       "      <th>event.len</th>\n",
       "      <th>ref.seq</th>\n",
       "      <th>model.level</th>\n",
       "    </tr>\n",
       "  </thead>\n",
       "  <tbody>\n",
       "    <tr>\n",
       "      <th>0</th>\n",
       "      <td>hgla.liver.2.rrna.18S.graphmap.1</td>\n",
       "      <td>21</td>\n",
       "      <td>TGCC-GGTAGCAT-TG</td>\n",
       "      <td>75.73 102.51 108.36 127.93 105.12 89.72 92.53 ...</td>\n",
       "      <td>0.00996 0.00498 0.00498 0.00830 0.00664 0.0043...</td>\n",
       "      <td>TGCCAGGTAGCATATG</td>\n",
       "      <td>71.08 91.80 115.66 119.51 107.54 92.91 105.36 ...</td>\n",
       "    </tr>\n",
       "    <tr>\n",
       "      <th>1</th>\n",
       "      <td>hgla.liver.2.rrna.18S.graphmap.1</td>\n",
       "      <td>26</td>\n",
       "      <td>GGTAGCAT-TGCACGT</td>\n",
       "      <td>89.72 92.53 108.12 87.49 90.94 80.44 81.02 92....</td>\n",
       "      <td>0.00432 0.00398 0.00996 0.00398 0.00896 0.0129...</td>\n",
       "      <td>GGTAGCATATGCTTGT</td>\n",
       "      <td>92.91 105.36 114.89 82.81 89.58 83.95 78.95 86...</td>\n",
       "    </tr>\n",
       "    <tr>\n",
       "      <th>2</th>\n",
       "      <td>hgla.liver.2.rrna.18S.graphmap.1</td>\n",
       "      <td>28</td>\n",
       "      <td>TAGCAT-TGCACGTCC</td>\n",
       "      <td>108.12 87.49 90.94 80.44 81.02 92.68 94.49 72....</td>\n",
       "      <td>0.00996 0.00398 0.00896 0.01295 0.00398 0.0049...</td>\n",
       "      <td>TAGCATATGCTTGTCT</td>\n",
       "      <td>114.89 82.81 89.58 83.95 78.95 86.67 109.23 79...</td>\n",
       "    </tr>\n",
       "    <tr>\n",
       "      <th>3</th>\n",
       "      <td>hgla.liver.2.rrna.18S.graphmap.1</td>\n",
       "      <td>31</td>\n",
       "      <td>CAT-TGCACGTCCCAA</td>\n",
       "      <td>80.44 81.02 92.68 94.49 72.57 79.83 91.04 103....</td>\n",
       "      <td>0.01295 0.00398 0.00498 0.01428 0.00432 0.0172...</td>\n",
       "      <td>CATATGCTTGTCTCAA</td>\n",
       "      <td>83.95 78.95 86.67 109.23 79.57 86.77 96.28 111...</td>\n",
       "    </tr>\n",
       "    <tr>\n",
       "      <th>4</th>\n",
       "      <td>hgla.liver.2.rrna.18S.graphmap.1</td>\n",
       "      <td>32</td>\n",
       "      <td>AT-TGCACGTCCCAAA</td>\n",
       "      <td>81.02 92.68 94.49 72.57 79.83 91.04 103.24 68....</td>\n",
       "      <td>0.00398 0.00498 0.01428 0.00432 0.01726 0.0112...</td>\n",
       "      <td>ATATGCTTGTCTCAAA</td>\n",
       "      <td>78.95 86.67 109.23 79.57 86.77 96.28 111.93 76...</td>\n",
       "    </tr>\n",
       "    <tr>\n",
       "      <th>...</th>\n",
       "      <td>...</td>\n",
       "      <td>...</td>\n",
       "      <td>...</td>\n",
       "      <td>...</td>\n",
       "      <td>...</td>\n",
       "      <td>...</td>\n",
       "      <td>...</td>\n",
       "    </tr>\n",
       "    <tr>\n",
       "      <th>199995</th>\n",
       "      <td>hgla.liver.2.rrna.18S.graphmap.1</td>\n",
       "      <td>1463</td>\n",
       "      <td>GTGGCGTTCAGCCACC</td>\n",
       "      <td>105.72 86.48 78.58 101.09 73.68 72.90 82.27 98...</td>\n",
       "      <td>0.00896 0.00631 0.01328 0.00432 0.00332 0.0066...</td>\n",
       "      <td>GTGGCGTTCAGCCACC</td>\n",
       "      <td>107.59 95.66 86.64 100.91 76.78 75.46 90.48 10...</td>\n",
       "    </tr>\n",
       "    <tr>\n",
       "      <th>199996</th>\n",
       "      <td>hgla.liver.2.rrna.18S.graphmap.1</td>\n",
       "      <td>1477</td>\n",
       "      <td>CCCGAGATTGAGCAAT</td>\n",
       "      <td>96.10 124.61 123.15 117.21 101.00 88.99 101.73...</td>\n",
       "      <td>0.01195 0.00697 0.00332 0.00232 0.00365 0.0049...</td>\n",
       "      <td>CCCGAGATTGAGCAAT</td>\n",
       "      <td>95.86 116.16 130.18 136.89 96.10 90.37 102.99 ...</td>\n",
       "    </tr>\n",
       "    <tr>\n",
       "      <th>199997</th>\n",
       "      <td>hgla.liver.2.rrna.18S.graphmap.1</td>\n",
       "      <td>1478</td>\n",
       "      <td>CCGAGATTGAGCAATA</td>\n",
       "      <td>124.61 123.15 117.21 101.00 88.99 101.73 120.5...</td>\n",
       "      <td>0.00697 0.00332 0.00232 0.00365 0.00498 0.0056...</td>\n",
       "      <td>CCGAGATTGAGCAATA</td>\n",
       "      <td>116.16 130.18 136.89 96.10 90.37 102.99 117.86...</td>\n",
       "    </tr>\n",
       "    <tr>\n",
       "      <th>199998</th>\n",
       "      <td>hgla.liver.2.rrna.18S.graphmap.1</td>\n",
       "      <td>1485</td>\n",
       "      <td>TGAGCAATAACAGGCC</td>\n",
       "      <td>105.63 118.83 84.87 108.57 87.30 84.95 94.54 9...</td>\n",
       "      <td>0.00797 0.00299 0.00564 0.00797 0.00564 0.0023...</td>\n",
       "      <td>TGAGCAATAACAGGTC</td>\n",
       "      <td>107.01 115.20 86.30 109.26 97.17 85.40 93.83 8...</td>\n",
       "    </tr>\n",
       "    <tr>\n",
       "      <th>199999</th>\n",
       "      <td>hgla.liver.2.rrna.18S.graphmap.1</td>\n",
       "      <td>1492</td>\n",
       "      <td>TAACAGGCCTGTGATG</td>\n",
       "      <td>90.36 82.09 118.09 113.30 111.91 81.17 85.62 1...</td>\n",
       "      <td>0.00498 0.00697 0.01162 0.00863 0.00266 0.0023...</td>\n",
       "      <td>TAACAGGTCTGTGATG</td>\n",
       "      <td>86.54 84.20 115.66 116.55 117.09 77.44 84.95 9...</td>\n",
       "    </tr>\n",
       "  </tbody>\n",
       "</table>\n",
       "<p>200000 rows × 7 columns</p>\n",
       "</div>"
      ],
      "text/plain": [
       "                              sample.ref  center.pos          read.seq  \\\n",
       "0       hgla.liver.2.rrna.18S.graphmap.1          21  TGCC-GGTAGCAT-TG   \n",
       "1       hgla.liver.2.rrna.18S.graphmap.1          26  GGTAGCAT-TGCACGT   \n",
       "2       hgla.liver.2.rrna.18S.graphmap.1          28  TAGCAT-TGCACGTCC   \n",
       "3       hgla.liver.2.rrna.18S.graphmap.1          31  CAT-TGCACGTCCCAA   \n",
       "4       hgla.liver.2.rrna.18S.graphmap.1          32  AT-TGCACGTCCCAAA   \n",
       "...                                  ...         ...               ...   \n",
       "199995  hgla.liver.2.rrna.18S.graphmap.1        1463  GTGGCGTTCAGCCACC   \n",
       "199996  hgla.liver.2.rrna.18S.graphmap.1        1477  CCCGAGATTGAGCAAT   \n",
       "199997  hgla.liver.2.rrna.18S.graphmap.1        1478  CCGAGATTGAGCAATA   \n",
       "199998  hgla.liver.2.rrna.18S.graphmap.1        1485  TGAGCAATAACAGGCC   \n",
       "199999  hgla.liver.2.rrna.18S.graphmap.1        1492  TAACAGGCCTGTGATG   \n",
       "\n",
       "                                              event.level  \\\n",
       "0       75.73 102.51 108.36 127.93 105.12 89.72 92.53 ...   \n",
       "1       89.72 92.53 108.12 87.49 90.94 80.44 81.02 92....   \n",
       "2       108.12 87.49 90.94 80.44 81.02 92.68 94.49 72....   \n",
       "3       80.44 81.02 92.68 94.49 72.57 79.83 91.04 103....   \n",
       "4       81.02 92.68 94.49 72.57 79.83 91.04 103.24 68....   \n",
       "...                                                   ...   \n",
       "199995  105.72 86.48 78.58 101.09 73.68 72.90 82.27 98...   \n",
       "199996  96.10 124.61 123.15 117.21 101.00 88.99 101.73...   \n",
       "199997  124.61 123.15 117.21 101.00 88.99 101.73 120.5...   \n",
       "199998  105.63 118.83 84.87 108.57 87.30 84.95 94.54 9...   \n",
       "199999  90.36 82.09 118.09 113.30 111.91 81.17 85.62 1...   \n",
       "\n",
       "                                                event.len           ref.seq  \\\n",
       "0       0.00996 0.00498 0.00498 0.00830 0.00664 0.0043...  TGCCAGGTAGCATATG   \n",
       "1       0.00432 0.00398 0.00996 0.00398 0.00896 0.0129...  GGTAGCATATGCTTGT   \n",
       "2       0.00996 0.00398 0.00896 0.01295 0.00398 0.0049...  TAGCATATGCTTGTCT   \n",
       "3       0.01295 0.00398 0.00498 0.01428 0.00432 0.0172...  CATATGCTTGTCTCAA   \n",
       "4       0.00398 0.00498 0.01428 0.00432 0.01726 0.0112...  ATATGCTTGTCTCAAA   \n",
       "...                                                   ...               ...   \n",
       "199995  0.00896 0.00631 0.01328 0.00432 0.00332 0.0066...  GTGGCGTTCAGCCACC   \n",
       "199996  0.01195 0.00697 0.00332 0.00232 0.00365 0.0049...  CCCGAGATTGAGCAAT   \n",
       "199997  0.00697 0.00332 0.00232 0.00365 0.00498 0.0056...  CCGAGATTGAGCAATA   \n",
       "199998  0.00797 0.00299 0.00564 0.00797 0.00564 0.0023...  TGAGCAATAACAGGTC   \n",
       "199999  0.00498 0.00697 0.01162 0.00863 0.00266 0.0023...  TAACAGGTCTGTGATG   \n",
       "\n",
       "                                              model.level  \n",
       "0       71.08 91.80 115.66 119.51 107.54 92.91 105.36 ...  \n",
       "1       92.91 105.36 114.89 82.81 89.58 83.95 78.95 86...  \n",
       "2       114.89 82.81 89.58 83.95 78.95 86.67 109.23 79...  \n",
       "3       83.95 78.95 86.67 109.23 79.57 86.77 96.28 111...  \n",
       "4       78.95 86.67 109.23 79.57 86.77 96.28 111.93 76...  \n",
       "...                                                   ...  \n",
       "199995  107.59 95.66 86.64 100.91 76.78 75.46 90.48 10...  \n",
       "199996  95.86 116.16 130.18 136.89 96.10 90.37 102.99 ...  \n",
       "199997  116.16 130.18 136.89 96.10 90.37 102.99 117.86...  \n",
       "199998  107.01 115.20 86.30 109.26 97.17 85.40 93.83 8...  \n",
       "199999  86.54 84.20 115.66 116.55 117.09 77.44 84.95 9...  \n",
       "\n",
       "[200000 rows x 7 columns]"
      ]
     },
     "execution_count": 5,
     "metadata": {},
     "output_type": "execute_result"
    }
   ],
   "source": [
    "data"
   ]
  },
  {
   "cell_type": "code",
   "execution_count": 6,
   "metadata": {},
   "outputs": [],
   "source": [
    "data['psi'] = [1 if pos in psi_modification  else 0 for pos in data['center.pos']]"
   ]
  },
  {
   "cell_type": "code",
   "execution_count": 7,
   "metadata": {},
   "outputs": [
    {
     "data": {
      "text/html": [
       "<div>\n",
       "<style scoped>\n",
       "    .dataframe tbody tr th:only-of-type {\n",
       "        vertical-align: middle;\n",
       "    }\n",
       "\n",
       "    .dataframe tbody tr th {\n",
       "        vertical-align: top;\n",
       "    }\n",
       "\n",
       "    .dataframe thead th {\n",
       "        text-align: right;\n",
       "    }\n",
       "</style>\n",
       "<table border=\"1\" class=\"dataframe\">\n",
       "  <thead>\n",
       "    <tr style=\"text-align: right;\">\n",
       "      <th></th>\n",
       "      <th>sample.ref</th>\n",
       "      <th>center.pos</th>\n",
       "      <th>read.seq</th>\n",
       "      <th>event.level</th>\n",
       "      <th>event.len</th>\n",
       "      <th>ref.seq</th>\n",
       "      <th>model.level</th>\n",
       "      <th>psi</th>\n",
       "    </tr>\n",
       "  </thead>\n",
       "  <tbody>\n",
       "    <tr>\n",
       "      <th>0</th>\n",
       "      <td>hgla.liver.2.rrna.18S.graphmap.1</td>\n",
       "      <td>21</td>\n",
       "      <td>TGCC-GGTAGCAT-TG</td>\n",
       "      <td>75.73 102.51 108.36 127.93 105.12 89.72 92.53 ...</td>\n",
       "      <td>0.00996 0.00498 0.00498 0.00830 0.00664 0.0043...</td>\n",
       "      <td>TGCCAGGTAGCATATG</td>\n",
       "      <td>71.08 91.80 115.66 119.51 107.54 92.91 105.36 ...</td>\n",
       "      <td>0</td>\n",
       "    </tr>\n",
       "    <tr>\n",
       "      <th>1</th>\n",
       "      <td>hgla.liver.2.rrna.18S.graphmap.1</td>\n",
       "      <td>26</td>\n",
       "      <td>GGTAGCAT-TGCACGT</td>\n",
       "      <td>89.72 92.53 108.12 87.49 90.94 80.44 81.02 92....</td>\n",
       "      <td>0.00432 0.00398 0.00996 0.00398 0.00896 0.0129...</td>\n",
       "      <td>GGTAGCATATGCTTGT</td>\n",
       "      <td>92.91 105.36 114.89 82.81 89.58 83.95 78.95 86...</td>\n",
       "      <td>0</td>\n",
       "    </tr>\n",
       "    <tr>\n",
       "      <th>2</th>\n",
       "      <td>hgla.liver.2.rrna.18S.graphmap.1</td>\n",
       "      <td>28</td>\n",
       "      <td>TAGCAT-TGCACGTCC</td>\n",
       "      <td>108.12 87.49 90.94 80.44 81.02 92.68 94.49 72....</td>\n",
       "      <td>0.00996 0.00398 0.00896 0.01295 0.00398 0.0049...</td>\n",
       "      <td>TAGCATATGCTTGTCT</td>\n",
       "      <td>114.89 82.81 89.58 83.95 78.95 86.67 109.23 79...</td>\n",
       "      <td>0</td>\n",
       "    </tr>\n",
       "    <tr>\n",
       "      <th>3</th>\n",
       "      <td>hgla.liver.2.rrna.18S.graphmap.1</td>\n",
       "      <td>31</td>\n",
       "      <td>CAT-TGCACGTCCCAA</td>\n",
       "      <td>80.44 81.02 92.68 94.49 72.57 79.83 91.04 103....</td>\n",
       "      <td>0.01295 0.00398 0.00498 0.01428 0.00432 0.0172...</td>\n",
       "      <td>CATATGCTTGTCTCAA</td>\n",
       "      <td>83.95 78.95 86.67 109.23 79.57 86.77 96.28 111...</td>\n",
       "      <td>0</td>\n",
       "    </tr>\n",
       "    <tr>\n",
       "      <th>4</th>\n",
       "      <td>hgla.liver.2.rrna.18S.graphmap.1</td>\n",
       "      <td>32</td>\n",
       "      <td>AT-TGCACGTCCCAAA</td>\n",
       "      <td>81.02 92.68 94.49 72.57 79.83 91.04 103.24 68....</td>\n",
       "      <td>0.00398 0.00498 0.01428 0.00432 0.01726 0.0112...</td>\n",
       "      <td>ATATGCTTGTCTCAAA</td>\n",
       "      <td>78.95 86.67 109.23 79.57 86.77 96.28 111.93 76...</td>\n",
       "      <td>0</td>\n",
       "    </tr>\n",
       "    <tr>\n",
       "      <th>...</th>\n",
       "      <td>...</td>\n",
       "      <td>...</td>\n",
       "      <td>...</td>\n",
       "      <td>...</td>\n",
       "      <td>...</td>\n",
       "      <td>...</td>\n",
       "      <td>...</td>\n",
       "      <td>...</td>\n",
       "    </tr>\n",
       "    <tr>\n",
       "      <th>199995</th>\n",
       "      <td>hgla.liver.2.rrna.18S.graphmap.1</td>\n",
       "      <td>1463</td>\n",
       "      <td>GTGGCGTTCAGCCACC</td>\n",
       "      <td>105.72 86.48 78.58 101.09 73.68 72.90 82.27 98...</td>\n",
       "      <td>0.00896 0.00631 0.01328 0.00432 0.00332 0.0066...</td>\n",
       "      <td>GTGGCGTTCAGCCACC</td>\n",
       "      <td>107.59 95.66 86.64 100.91 76.78 75.46 90.48 10...</td>\n",
       "      <td>0</td>\n",
       "    </tr>\n",
       "    <tr>\n",
       "      <th>199996</th>\n",
       "      <td>hgla.liver.2.rrna.18S.graphmap.1</td>\n",
       "      <td>1477</td>\n",
       "      <td>CCCGAGATTGAGCAAT</td>\n",
       "      <td>96.10 124.61 123.15 117.21 101.00 88.99 101.73...</td>\n",
       "      <td>0.01195 0.00697 0.00332 0.00232 0.00365 0.0049...</td>\n",
       "      <td>CCCGAGATTGAGCAAT</td>\n",
       "      <td>95.86 116.16 130.18 136.89 96.10 90.37 102.99 ...</td>\n",
       "      <td>0</td>\n",
       "    </tr>\n",
       "    <tr>\n",
       "      <th>199997</th>\n",
       "      <td>hgla.liver.2.rrna.18S.graphmap.1</td>\n",
       "      <td>1478</td>\n",
       "      <td>CCGAGATTGAGCAATA</td>\n",
       "      <td>124.61 123.15 117.21 101.00 88.99 101.73 120.5...</td>\n",
       "      <td>0.00697 0.00332 0.00232 0.00365 0.00498 0.0056...</td>\n",
       "      <td>CCGAGATTGAGCAATA</td>\n",
       "      <td>116.16 130.18 136.89 96.10 90.37 102.99 117.86...</td>\n",
       "      <td>0</td>\n",
       "    </tr>\n",
       "    <tr>\n",
       "      <th>199998</th>\n",
       "      <td>hgla.liver.2.rrna.18S.graphmap.1</td>\n",
       "      <td>1485</td>\n",
       "      <td>TGAGCAATAACAGGCC</td>\n",
       "      <td>105.63 118.83 84.87 108.57 87.30 84.95 94.54 9...</td>\n",
       "      <td>0.00797 0.00299 0.00564 0.00797 0.00564 0.0023...</td>\n",
       "      <td>TGAGCAATAACAGGTC</td>\n",
       "      <td>107.01 115.20 86.30 109.26 97.17 85.40 93.83 8...</td>\n",
       "      <td>0</td>\n",
       "    </tr>\n",
       "    <tr>\n",
       "      <th>199999</th>\n",
       "      <td>hgla.liver.2.rrna.18S.graphmap.1</td>\n",
       "      <td>1492</td>\n",
       "      <td>TAACAGGCCTGTGATG</td>\n",
       "      <td>90.36 82.09 118.09 113.30 111.91 81.17 85.62 1...</td>\n",
       "      <td>0.00498 0.00697 0.01162 0.00863 0.00266 0.0023...</td>\n",
       "      <td>TAACAGGTCTGTGATG</td>\n",
       "      <td>86.54 84.20 115.66 116.55 117.09 77.44 84.95 9...</td>\n",
       "      <td>0</td>\n",
       "    </tr>\n",
       "  </tbody>\n",
       "</table>\n",
       "<p>200000 rows × 8 columns</p>\n",
       "</div>"
      ],
      "text/plain": [
       "                              sample.ref  center.pos          read.seq  \\\n",
       "0       hgla.liver.2.rrna.18S.graphmap.1          21  TGCC-GGTAGCAT-TG   \n",
       "1       hgla.liver.2.rrna.18S.graphmap.1          26  GGTAGCAT-TGCACGT   \n",
       "2       hgla.liver.2.rrna.18S.graphmap.1          28  TAGCAT-TGCACGTCC   \n",
       "3       hgla.liver.2.rrna.18S.graphmap.1          31  CAT-TGCACGTCCCAA   \n",
       "4       hgla.liver.2.rrna.18S.graphmap.1          32  AT-TGCACGTCCCAAA   \n",
       "...                                  ...         ...               ...   \n",
       "199995  hgla.liver.2.rrna.18S.graphmap.1        1463  GTGGCGTTCAGCCACC   \n",
       "199996  hgla.liver.2.rrna.18S.graphmap.1        1477  CCCGAGATTGAGCAAT   \n",
       "199997  hgla.liver.2.rrna.18S.graphmap.1        1478  CCGAGATTGAGCAATA   \n",
       "199998  hgla.liver.2.rrna.18S.graphmap.1        1485  TGAGCAATAACAGGCC   \n",
       "199999  hgla.liver.2.rrna.18S.graphmap.1        1492  TAACAGGCCTGTGATG   \n",
       "\n",
       "                                              event.level  \\\n",
       "0       75.73 102.51 108.36 127.93 105.12 89.72 92.53 ...   \n",
       "1       89.72 92.53 108.12 87.49 90.94 80.44 81.02 92....   \n",
       "2       108.12 87.49 90.94 80.44 81.02 92.68 94.49 72....   \n",
       "3       80.44 81.02 92.68 94.49 72.57 79.83 91.04 103....   \n",
       "4       81.02 92.68 94.49 72.57 79.83 91.04 103.24 68....   \n",
       "...                                                   ...   \n",
       "199995  105.72 86.48 78.58 101.09 73.68 72.90 82.27 98...   \n",
       "199996  96.10 124.61 123.15 117.21 101.00 88.99 101.73...   \n",
       "199997  124.61 123.15 117.21 101.00 88.99 101.73 120.5...   \n",
       "199998  105.63 118.83 84.87 108.57 87.30 84.95 94.54 9...   \n",
       "199999  90.36 82.09 118.09 113.30 111.91 81.17 85.62 1...   \n",
       "\n",
       "                                                event.len           ref.seq  \\\n",
       "0       0.00996 0.00498 0.00498 0.00830 0.00664 0.0043...  TGCCAGGTAGCATATG   \n",
       "1       0.00432 0.00398 0.00996 0.00398 0.00896 0.0129...  GGTAGCATATGCTTGT   \n",
       "2       0.00996 0.00398 0.00896 0.01295 0.00398 0.0049...  TAGCATATGCTTGTCT   \n",
       "3       0.01295 0.00398 0.00498 0.01428 0.00432 0.0172...  CATATGCTTGTCTCAA   \n",
       "4       0.00398 0.00498 0.01428 0.00432 0.01726 0.0112...  ATATGCTTGTCTCAAA   \n",
       "...                                                   ...               ...   \n",
       "199995  0.00896 0.00631 0.01328 0.00432 0.00332 0.0066...  GTGGCGTTCAGCCACC   \n",
       "199996  0.01195 0.00697 0.00332 0.00232 0.00365 0.0049...  CCCGAGATTGAGCAAT   \n",
       "199997  0.00697 0.00332 0.00232 0.00365 0.00498 0.0056...  CCGAGATTGAGCAATA   \n",
       "199998  0.00797 0.00299 0.00564 0.00797 0.00564 0.0023...  TGAGCAATAACAGGTC   \n",
       "199999  0.00498 0.00697 0.01162 0.00863 0.00266 0.0023...  TAACAGGTCTGTGATG   \n",
       "\n",
       "                                              model.level  psi  \n",
       "0       71.08 91.80 115.66 119.51 107.54 92.91 105.36 ...    0  \n",
       "1       92.91 105.36 114.89 82.81 89.58 83.95 78.95 86...    0  \n",
       "2       114.89 82.81 89.58 83.95 78.95 86.67 109.23 79...    0  \n",
       "3       83.95 78.95 86.67 109.23 79.57 86.77 96.28 111...    0  \n",
       "4       78.95 86.67 109.23 79.57 86.77 96.28 111.93 76...    0  \n",
       "...                                                   ...  ...  \n",
       "199995  107.59 95.66 86.64 100.91 76.78 75.46 90.48 10...    0  \n",
       "199996  95.86 116.16 130.18 136.89 96.10 90.37 102.99 ...    0  \n",
       "199997  116.16 130.18 136.89 96.10 90.37 102.99 117.86...    0  \n",
       "199998  107.01 115.20 86.30 109.26 97.17 85.40 93.83 8...    0  \n",
       "199999  86.54 84.20 115.66 116.55 117.09 77.44 84.95 9...    0  \n",
       "\n",
       "[200000 rows x 8 columns]"
      ]
     },
     "execution_count": 7,
     "metadata": {},
     "output_type": "execute_result"
    }
   ],
   "source": [
    "data"
   ]
  },
  {
   "cell_type": "code",
   "execution_count": 8,
   "metadata": {},
   "outputs": [
    {
     "name": "stdout",
     "output_type": "stream",
     "text": [
      "0    186296\n",
      "1     13704\n",
      "Name: psi, dtype: int64\n"
     ]
    }
   ],
   "source": [
    "psi_counts = data['psi'].value_counts()\n",
    "\n",
    "print(psi_counts)"
   ]
  },
  {
   "cell_type": "code",
   "execution_count": 9,
   "metadata": {},
   "outputs": [
    {
     "data": {
      "text/plain": [
       "dtype('O')"
      ]
     },
     "execution_count": 9,
     "metadata": {},
     "output_type": "execute_result"
    }
   ],
   "source": [
    "data['event.level'].dtype"
   ]
  },
  {
   "cell_type": "code",
   "execution_count": 10,
   "metadata": {},
   "outputs": [],
   "source": [
    "# 1hot encoding of sequences\n",
    "X_train_signal = np.zeros(input_shape_signal)\n",
    "\n",
    "\n",
    "#print(data['event.level'].head(3))\n",
    "data['event.level'] = data['event.level'].astype(str)\n",
    "data['event.len'] = data['event.len'].astype(str)\n",
    "#print(data['event.level'].head(3))\n",
    "\n",
    "for i in range(0, data.shape[0]):\n",
    "    X_train_signal[i,:,0] = np.array(data['event.level'][i].split(\" \"))\n",
    "    X_train_signal[i,:,1] = np.array(data['event.len'][i].split(\" \"))"
   ]
  },
  {
   "cell_type": "code",
   "execution_count": 11,
   "metadata": {},
   "outputs": [
    {
     "data": {
      "text/plain": [
       "numpy.ndarray"
      ]
     },
     "execution_count": 11,
     "metadata": {},
     "output_type": "execute_result"
    }
   ],
   "source": [
    "type(X_train_signal)"
   ]
  },
  {
   "cell_type": "code",
   "execution_count": 12,
   "metadata": {},
   "outputs": [
    {
     "name": "stdout",
     "output_type": "stream",
     "text": [
      "[[8.9720e+01 4.3200e-03]\n",
      " [9.2530e+01 3.9800e-03]\n",
      " [1.0812e+02 9.9600e-03]\n",
      " [8.7490e+01 3.9800e-03]\n",
      " [9.0940e+01 8.9600e-03]\n",
      " [8.0440e+01 1.2950e-02]\n",
      " [8.1020e+01 3.9800e-03]\n",
      " [9.2680e+01 4.9800e-03]\n",
      " [9.4490e+01 1.4280e-02]]\n",
      "89.72 92.53 108.12 87.49 90.94 80.44 81.02 92.68 94.49\n",
      "0.00432 0.00398 0.00996 0.00398 0.00896 0.01295 0.00398 0.00498 0.01428\n",
      "(200000, 9, 2)\n"
     ]
    }
   ],
   "source": [
    "print(X_train_signal[1])\n",
    "print(data['event.level'][1])\n",
    "print(data['event.len'][1])\n",
    "print(X_train_signal.shape)"
   ]
  },
  {
   "cell_type": "code",
   "execution_count": 18,
   "metadata": {},
   "outputs": [
    {
     "data": {
      "text/plain": [
       "(200000, 9, 1)"
      ]
     },
     "execution_count": 18,
     "metadata": {},
     "output_type": "execute_result"
    }
   ],
   "source": [
    "# output_shape_signal = (data.shape[0], signal_dim,  1)\n",
    "# Y_train_signal = np.zeros(output_shape_signal)\n",
    "\n",
    "# data['model.level'] = data['model.level'].astype(str)\n",
    "# #print(data['event.level'].head(3))\n",
    "\n",
    "# for i in range(0, data.shape[0]):\n",
    "#     Y_train_signal[i,:,0] = np.array(data['model.level'][i].split(\" \"))\n",
    "\n",
    "# Y_train_signal.shape"
   ]
  },
  {
   "cell_type": "code",
   "execution_count": 19,
   "metadata": {},
   "outputs": [
    {
     "data": {
      "text/plain": [
       "numpy.ndarray"
      ]
     },
     "execution_count": 19,
     "metadata": {},
     "output_type": "execute_result"
    }
   ],
   "source": [
    "# type(Y_train_signal)"
   ]
  },
  {
   "cell_type": "code",
   "execution_count": 20,
   "metadata": {},
   "outputs": [
    {
     "name": "stdout",
     "output_type": "stream",
     "text": [
      "[[ 92.91]\n",
      " [105.36]\n",
      " [114.89]\n",
      " [ 82.81]\n",
      " [ 89.58]\n",
      " [ 83.95]\n",
      " [ 78.95]\n",
      " [ 86.67]\n",
      " [109.23]]\n"
     ]
    }
   ],
   "source": [
    "# print(Y_train_signal[1])"
   ]
  },
  {
   "cell_type": "code",
   "execution_count": 13,
   "metadata": {},
   "outputs": [],
   "source": [
    "input_shape_seq = (data.shape[0], 16, 5)\n",
    "output_shape_seq = input_shape_seq"
   ]
  },
  {
   "cell_type": "code",
   "execution_count": 14,
   "metadata": {},
   "outputs": [
    {
     "data": {
      "text/plain": [
       "(200000, 16, 5)"
      ]
     },
     "execution_count": 14,
     "metadata": {},
     "output_type": "execute_result"
    }
   ],
   "source": [
    "X_train_seq = np.zeros(input_shape_seq)\n",
    "data['read.seq'] = data['read.seq'].astype(str)\n",
    "for i in range(0, data.shape[0]):\n",
    "    seq = data.iloc[i,2]\n",
    "    #print(seq)\n",
    "\n",
    "    for c in range(0, len(seq)):\n",
    "        if (seq[c] == \"A\"):\n",
    "            X_train_seq[i,c,:] = [1,0,0,0,0]\n",
    "        elif (seq[c] == \"C\"):\n",
    "            X_train_seq[i,c,:] = [0,1,0,0,0]\n",
    "        elif (seq[c] == \"G\"):\n",
    "            X_train_seq[i,c,:] = [0,0,1,0,0]\n",
    "        elif (seq[c] == \"T\"):\n",
    "            X_train_seq[i,c,:] = [0,0,0,1,0]\n",
    "        elif (seq[c] == \"-\"):\n",
    "            X_train_seq[i,c,:] = [0,0,0,0,1]\n",
    "        \n",
    "\n",
    "\n",
    "X_train_seq.shape"
   ]
  },
  {
   "cell_type": "code",
   "execution_count": 15,
   "metadata": {},
   "outputs": [],
   "source": [
    "# Y_train_seq = np.zeros(output_shape_seq)\n",
    "# data['ref.seq'] = data['ref.seq'].astype(str)\n",
    "# for i in range(0, data.shape[0]):\n",
    "#     seq = data.iloc[i,4]\n",
    "#     #print(seq)\n",
    "\n",
    "#     for c in range(0, len(seq)):\n",
    "#         if (seq[c] == \"A\"):\n",
    "#             Y_train_seq[i,c,:] = [1,0,0,0,0]\n",
    "#         elif (seq[c] == \"C\"):\n",
    "#             Y_train_seq[i,c,:] = [0,1,0,0,0]\n",
    "#         elif (seq[c] == \"G\"):\n",
    "#             Y_train_seq[i,c,:] = [0,0,1,0,0]\n",
    "#         elif (seq[c] == \"T\"):\n",
    "#             Y_train_seq[i,c,:] = [0,0,0,1,0]\n",
    "#         elif (seq[c] == \"-\"):\n",
    "#             Y_train_seq[i,c,:] = [0,0,0,0,1]\n",
    "        \n",
    "\n",
    "\n",
    "# Y_train_seq.shape"
   ]
  },
  {
   "cell_type": "code",
   "execution_count": 16,
   "metadata": {},
   "outputs": [
    {
     "data": {
      "text/plain": [
       "(200000,)"
      ]
     },
     "execution_count": 16,
     "metadata": {},
     "output_type": "execute_result"
    }
   ],
   "source": [
    "Y_train = data['psi']\n",
    "Y_train.shape"
   ]
  },
  {
   "cell_type": "code",
   "execution_count": 17,
   "metadata": {},
   "outputs": [],
   "source": [
    "from tensorflow.keras.models import Model\n",
    "from tensorflow.keras.layers import Input, Dense, Conv1D, MaxPooling1D, BatchNormalization, UpSampling1D, Cropping1D\n",
    "from tensorflow.keras.layers import Activation, Flatten, Dropout\n",
    "from tensorflow.keras.optimizers import Adam\n",
    "from tensorflow.keras.regularizers import l2\n",
    "from tensorflow.keras.callbacks import EarlyStopping, ModelCheckpoint, History\n",
    "from tensorflow.keras.losses import MeanSquaredError\n",
    "from tensorflow.keras.metrics import RootMeanSquaredError"
   ]
  },
  {
   "cell_type": "code",
   "execution_count": 18,
   "metadata": {},
   "outputs": [],
   "source": [
    "import keras\n",
    "from keras.callbacks import ModelCheckpoint, EarlyStopping, CSVLogger\n",
    "from keras.models import Sequential, Model\n",
    "from keras.layers import Dense, Dropout, Flatten, Conv1D, MaxPooling1D, Activation, LSTM, Bidirectional, Concatenate, Input, BatchNormalization\n",
    "from keras.optimizers import SGD, RMSprop, Adam\n",
    "from keras import metrics\n",
    "from keras import backend as K\n",
    "from keras.layers import LeakyReLU\n",
    "from keras import regularizers\n",
    "from keras import initializers\n",
    "from keras.layers import Reshape\n"
   ]
  },
  {
   "cell_type": "code",
   "execution_count": 19,
   "metadata": {},
   "outputs": [],
   "source": [
    "params = {\n",
    "          'lr': 0.002,\n",
    "          'input_dropout': 0.8,\n",
    "          'num_filters1': 16,\n",
    "          'num_filters2': 8,\n",
    "          'num_filters3': 4,\n",
    "          'dropout_prob': 0.5,\n",
    "          'kernel_size1': 5,\n",
    "          'kernel_size2': 7,\n",
    "          'kernel_size3': 5,\n",
    "          }"
   ]
  },
  {
   "cell_type": "code",
   "execution_count": 20,
   "metadata": {},
   "outputs": [],
   "source": [
    "def sequence_branch(sequence_input, params):\n",
    "    #input = Input(shape=(sequence_dim,5), name = \"input\")\n",
    "    x = Dropout(params['input_dropout'])(sequence_input)\n",
    "\n",
    "    # encoder\n",
    "    x = Conv1D(filters = params['num_filters1'], kernel_size=params['kernel_size1'], \n",
    "    kernel_regularizer=l2(0.01), bias_regularizer=l2(0.01), padding=\"same\", name=\"encoder_1\")(x)\n",
    "    #x = BatchNormalization()(x)\n",
    "    x = Activation('relu')(x)\n",
    "    x = MaxPooling1D(2)(x)\n",
    "    x = Dropout(params['dropout_prob'])(x)\n",
    "    x = Conv1D(filters = params['num_filters2'], kernel_size=params['kernel_size2'], \n",
    "    kernel_regularizer=l2(0.01), bias_regularizer=l2(0.01), padding=\"same\", name=\"encoder_2\")(x)\n",
    "    #x = BatchNormalization()(x)\n",
    "    x = Activation('relu')(x)\n",
    "    x = MaxPooling1D(2)(x)\n",
    "    x = Dropout(0.25)(x)\n",
    "    x = Conv1D(filters = params['num_filters3'], kernel_size=params['kernel_size3'], \n",
    "    kernel_regularizer=l2(0.01), bias_regularizer=l2(0.01), padding=\"same\", name=\"encoder_3\")(x)\n",
    "    #x = BatchNormalization()(x)\n",
    "    x = Activation('relu')(x)\n",
    "    x = Dropout(0.25)(x)\n",
    "    encoded = x\n",
    "\n",
    "    x = Conv1D(filters = params['num_filters3'], kernel_size=params['kernel_size3'], \n",
    "    kernel_regularizer=l2(0.01), bias_regularizer=l2(0.01), padding=\"same\", name=\"decoder_1\")(encoded)\n",
    "    x = Dropout(0.25)(x)\n",
    "    #x = BatchNormalization()(x)\n",
    "    x = Activation('relu')(x)\n",
    "    x = UpSampling1D(2)(x)\n",
    "    x = Dropout(0.25)(x)\n",
    "    x = Conv1D(filters = params['num_filters2'], kernel_size=params['kernel_size2'], \n",
    "    kernel_regularizer=l2(0.01), bias_regularizer=l2(0.01), padding=\"same\", name=\"decoder_2\")(x)\n",
    "    #x = BatchNormalization()(x)\n",
    "    x = Activation('relu')(x)\n",
    "    x = UpSampling1D(2)(x)\n",
    "    x = Dropout(0.25)(x)\n",
    "    x = Conv1D(filters = 5, kernel_size=params['kernel_size1'], \n",
    "    kernel_regularizer=l2(0.01), bias_regularizer=l2(0.01), padding=\"same\", name=\"decoder_3\")(x)\n",
    "    #x = BatchNormalization()(x)\n",
    "    x = Activation('relu')(x)\n",
    "    #x = Dropout(0.25)(x)\n",
    "    #decoded = x\n",
    "    decoded = Flatten()(x)\n",
    "    return decoded"
   ]
  },
  {
   "cell_type": "code",
   "execution_count": 21,
   "metadata": {},
   "outputs": [],
   "source": [
    "def signal_branch(signal_input, params):\n",
    "    # 2 channels: event.signal, event.len\n",
    "    #input = Input(shape=(signal_dim,2), name = \"input\")\n",
    "    x = Dropout(params['input_dropout'])(signal_input)\n",
    "\n",
    "    # encoder\n",
    "    x = Conv1D(filters = params['num_filters1'], kernel_size=params['kernel_size1'], \n",
    "    kernel_regularizer=l2(0.01), bias_regularizer=l2(0.01), padding=\"same\", name=\"sig_encoder_1\")(x)\n",
    "    #x = BatchNormalization()(x)\n",
    "    x = Activation('relu')(x)\n",
    "    x = MaxPooling1D(2, padding=\"same\")(x)\n",
    "    x = Dropout(params['dropout_prob'])(x)\n",
    "    x = Conv1D(filters = params['num_filters2'], kernel_size=params['kernel_size2'], \n",
    "    kernel_regularizer=l2(0.01), bias_regularizer=l2(0.01), padding=\"same\", name=\"sig_encoder_2\")(x)\n",
    "    #x = BatchNormalization()(x)\n",
    "    x = Activation('relu')(x)\n",
    "    x = MaxPooling1D(2, padding=\"same\")(x)\n",
    "    x = Dropout(params['dropout_prob'])(x)\n",
    "    x = Conv1D(filters = params['num_filters3'], kernel_size=params['kernel_size3'], \n",
    "    kernel_regularizer=l2(0.01), bias_regularizer=l2(0.01), padding=\"same\", name=\"sig_encoder_3\")(x)\n",
    "    #x = BatchNormalization()(x)\n",
    "    x = Activation('relu')(x)\n",
    "    x = Dropout(0.25)(x)\n",
    "    sig_encoded = x\n",
    "\n",
    "    x = Conv1D(filters = params['num_filters3'], kernel_size=params['kernel_size3'], \n",
    "    kernel_regularizer=l2(0.01), bias_regularizer=l2(0.01), padding=\"same\", name=\"sig_decoder_1\")(sig_encoded)\n",
    "    x = Dropout(0.25)(x)\n",
    "    #x = BatchNormalization()(x)\n",
    "    x = Activation('relu')(x)\n",
    "    # not so sure about this yet, but secures output dimension of 9\n",
    "    x = UpSampling1D(3)(x)\n",
    "    x = Dropout(params['dropout_prob'])(x)\n",
    "    x = Conv1D(filters = params['num_filters2'], kernel_size=params['kernel_size2'], \n",
    "    kernel_regularizer=l2(0.01), bias_regularizer=l2(0.01), padding=\"same\", name=\"sig_decoder_2\")(x)\n",
    "    #x = BatchNormalization()(x)\n",
    "    x = Activation('relu')(x)\n",
    "    x = Dropout(params['dropout_prob'])(x)\n",
    "    x = Conv1D(filters = 1, kernel_size=params['kernel_size1'], \n",
    "    kernel_regularizer=l2(0.01), bias_regularizer=l2(0.01), padding=\"same\", name=\"sig_decoder_3\")(x)\n",
    "    #x = BatchNormalization()(x)\n",
    "    x = Activation('relu')(x)\n",
    "    #x = Dropout(params['dropout_prob'], name=\"sig_decoder\")(x)\n",
    "    #x = Cropping1D(cropping=((1), (0)))(x) \n",
    "    #sig_decoded = x\n",
    "    sig_decoded = Flatten()(x)\n",
    "    \n",
    "    return sig_decoded"
   ]
  },
  {
   "cell_type": "code",
   "execution_count": 80,
   "metadata": {},
   "outputs": [],
   "source": [
    "# generate multi-branch model\n",
    "def nano_model(modes, params):\n",
    "\t\"\"\"This function assembles the model and performs the training.\n",
    "\tThe architecture example in this function uses two different convolutional layers with shared parameters.\n",
    "\t\"\"\"\n",
    "\n",
    "\tsequence_inputs = []\n",
    "\tsequence_outputs = []\n",
    "\n",
    "\tsequence_dim = 16\n",
    "\t\n",
    "\tfor mode in modes:\n",
    "\n",
    "\t\tif mode == \"sequence\":\n",
    "\n",
    "\t\t\tsequence_input = Input(shape = (sequence_dim, 5), name=\"sequence_input\")\n",
    "\t\t\tsequence_output = sequence_branch(sequence_input, params)\n",
    "\n",
    "\t\t\tsequence_inputs.append(sequence_input)\n",
    "\t\t\tsequence_outputs.append(sequence_output)\n",
    "\n",
    "\t\telif mode == \"signal\":\n",
    "\n",
    "\t\t\tsignal_input = Input(shape = (signal_dim, 2), name=\"signal_input\")\n",
    "\t\t\tsignal_output = signal_branch(signal_input, params)\n",
    "\n",
    "\t\t\tsequence_inputs.append(signal_input)\n",
    "\t\t\tsequence_outputs.append(signal_output)\n",
    "\n",
    "#######################################################################\n",
    "\tconcatenated = keras.layers.concatenate(sequence_outputs)\n",
    "\n",
    "\t#out = Dense(units = 150, kernel_initializer = \"he_normal\", kernel_regularizer = regularizers.l2(0.00001))(concatenated)\n",
    "\tout = Dense(units = 100)(concatenated)\n",
    "\tout = LeakyReLU()(out)\n",
    "\tout = BatchNormalization()(out)\n",
    "\tout = Dropout(params['dropout_prob'], noise_shape = None, seed = None)(out)\n",
    "\t#out = Dense(units = 100, kernel_initializer = \"he_normal\", kernel_regularizer = regularizers.l2(0.00001))(out)\n",
    "\tout = Dense(units = 75)(out)\n",
    "\tout = LeakyReLU()(out)\n",
    "\tout = BatchNormalization()(out)\n",
    "\tout = Dropout(params['dropout_prob'], noise_shape = None, seed = None)(out)\n",
    "\t#out = Dense(units = 50, kernel_initializer = \"he_normal\", kernel_regularizer = regularizers.l2(0.00001))(out)\n",
    "\tout = Dense(units = 50)(out)\n",
    "\tout = LeakyReLU()(out)\n",
    "\tout = BatchNormalization()(out)\n",
    "\tout = Dropout(params['dropout_prob'], noise_shape = None, seed = None)(out)\n",
    "\tout = Dense(units=1, activation='sigmoid')(out)  \n",
    "\tprint(out.shape)\n",
    "\t  \n",
    "# ########################################################################                                                          \n",
    "# \t# define model\t\n",
    "\tprint(sequence_inputs)\n",
    "\tprint(sequence_outputs)\n",
    "\tnano_model = Model(inputs=sequence_inputs, outputs=out)\n",
    "\n",
    "\t#print(\"\\t\\t\\tCompiling network components.\\n\")\n",
    "\t#sgd = SGD(lr = tmp_lr, decay = 1e-6, momentum = 0.9, nesterov = True)\n",
    "\t#rmsprop = RMSprop(lr=0.01)\n",
    "\t\n",
    "\t# compile model\n",
    "\topt = Adam(lr=params['lr'])\n",
    "\tnano_model.compile(loss='binary_crossentropy', optimizer=opt, metrics=['accuracy'])\n",
    "    \n",
    "\treturn nano_model\n"
   ]
  },
  {
   "cell_type": "markdown",
   "metadata": {},
   "source": [
    "it may not be a good idea to use batch normalization and dropout in the same\n",
    "network. The reason is that the statistics used to normalize the activations of the prior layer\n",
    "may become noisy given the random dropping out of nodes during the dropout procedure."
   ]
  },
  {
   "cell_type": "code",
   "execution_count": 81,
   "metadata": {},
   "outputs": [],
   "source": [
    "# help(Conv1D)\n",
    "\n",
    "# https://stats.stackexchange.com/questions/376464/convolutional-autoencoder-on-an-odd-size-image\n",
    "\n",
    "# I solved this by adding a cropping layer in the end x = Conv2D(1, (3, 3), activation='sigmoid', padding='same')(x)    \n",
    "# decoded = Cropping2D(cropping=((1, 0), (1, 0)), data_format=None)(x) \n",
    "\n",
    "# But if it is a semantic segmentation problem, should this not mess up your predictions at the edges? Since you are cropping at the very last layer.\n",
    "\n",
    "# Convolutional layers are transforming information from input plain image to stacks of features. \n",
    "# Cropping away some these stacks at latest steps is 'a suboptimal' decision. \n",
    "# If you need cheap way to save this information, consider use pooling with non-symmetric padding like (0,1). \n",
    "# Sergey Skrebnev\n",
    "#  Au\n",
    "\n"
   ]
  },
  {
   "cell_type": "code",
   "execution_count": 82,
   "metadata": {},
   "outputs": [],
   "source": [
    "n_epochs = 20\n",
    "batch_size = 256\n",
    "\n",
    "#callbacks = [EarlyStopping(monitor = \"val_loss\", patience = 10, verbose = 0, restore_best_weights=True), History(), \n",
    "#TensorBoard('logs', write_graph = True, write_images= True)]\n",
    "callbacks = [EarlyStopping(monitor = \"val_loss\", patience = 20, verbose = 0), ModelCheckpoint(\"checkpoints/sinal_best_model.h5\"), History()]\n"
   ]
  },
  {
   "cell_type": "code",
   "execution_count": 83,
   "metadata": {},
   "outputs": [
    {
     "name": "stdout",
     "output_type": "stream",
     "text": [
      "(None, 1)\n",
      "[<KerasTensor: shape=(None, 16, 5) dtype=float32 (created by layer 'sequence_input')>, <KerasTensor: shape=(None, 9, 2) dtype=float32 (created by layer 'signal_input')>]\n",
      "[<KerasTensor: shape=(None, 80) dtype=float32 (created by layer 'flatten_4')>, <KerasTensor: shape=(None, 9) dtype=float32 (created by layer 'flatten_5')>]\n",
      "Model: \"model_20\"\n",
      "__________________________________________________________________________________________________\n",
      " Layer (type)                   Output Shape         Param #     Connected to                     \n",
      "==================================================================================================\n",
      " sequence_input (InputLayer)    [(None, 16, 5)]      0           []                               \n",
      "                                                                                                  \n",
      " dropout_34 (Dropout)           (None, 16, 5)        0           ['sequence_input[0][0]']         \n",
      "                                                                                                  \n",
      " signal_input (InputLayer)      [(None, 9, 2)]       0           []                               \n",
      "                                                                                                  \n",
      " encoder_1 (Conv1D)             (None, 16, 16)       416         ['dropout_34[0][0]']             \n",
      "                                                                                                  \n",
      " dropout_41 (Dropout)           (None, 9, 2)         0           ['signal_input[0][0]']           \n",
      "                                                                                                  \n",
      " activation_24 (Activation)     (None, 16, 16)       0           ['encoder_1[0][0]']              \n",
      "                                                                                                  \n",
      " sig_encoder_1 (Conv1D)         (None, 9, 16)        176         ['dropout_41[0][0]']             \n",
      "                                                                                                  \n",
      " max_pooling1d_8 (MaxPooling1D)  (None, 8, 16)       0           ['activation_24[0][0]']          \n",
      "                                                                                                  \n",
      " activation_30 (Activation)     (None, 9, 16)        0           ['sig_encoder_1[0][0]']          \n",
      "                                                                                                  \n",
      " dropout_35 (Dropout)           (None, 8, 16)        0           ['max_pooling1d_8[0][0]']        \n",
      "                                                                                                  \n",
      " max_pooling1d_10 (MaxPooling1D  (None, 5, 16)       0           ['activation_30[0][0]']          \n",
      " )                                                                                                \n",
      "                                                                                                  \n",
      " encoder_2 (Conv1D)             (None, 8, 8)         904         ['dropout_35[0][0]']             \n",
      "                                                                                                  \n",
      " dropout_42 (Dropout)           (None, 5, 16)        0           ['max_pooling1d_10[0][0]']       \n",
      "                                                                                                  \n",
      " activation_25 (Activation)     (None, 8, 8)         0           ['encoder_2[0][0]']              \n",
      "                                                                                                  \n",
      " sig_encoder_2 (Conv1D)         (None, 5, 8)         904         ['dropout_42[0][0]']             \n",
      "                                                                                                  \n",
      " max_pooling1d_9 (MaxPooling1D)  (None, 4, 8)        0           ['activation_25[0][0]']          \n",
      "                                                                                                  \n",
      " activation_31 (Activation)     (None, 5, 8)         0           ['sig_encoder_2[0][0]']          \n",
      "                                                                                                  \n",
      " dropout_36 (Dropout)           (None, 4, 8)         0           ['max_pooling1d_9[0][0]']        \n",
      "                                                                                                  \n",
      " max_pooling1d_11 (MaxPooling1D  (None, 3, 8)        0           ['activation_31[0][0]']          \n",
      " )                                                                                                \n",
      "                                                                                                  \n",
      " encoder_3 (Conv1D)             (None, 4, 4)         164         ['dropout_36[0][0]']             \n",
      "                                                                                                  \n",
      " dropout_43 (Dropout)           (None, 3, 8)         0           ['max_pooling1d_11[0][0]']       \n",
      "                                                                                                  \n",
      " activation_26 (Activation)     (None, 4, 4)         0           ['encoder_3[0][0]']              \n",
      "                                                                                                  \n",
      " sig_encoder_3 (Conv1D)         (None, 3, 4)         164         ['dropout_43[0][0]']             \n",
      "                                                                                                  \n",
      " dropout_37 (Dropout)           (None, 4, 4)         0           ['activation_26[0][0]']          \n",
      "                                                                                                  \n",
      " activation_32 (Activation)     (None, 3, 4)         0           ['sig_encoder_3[0][0]']          \n",
      "                                                                                                  \n",
      " decoder_1 (Conv1D)             (None, 4, 4)         84          ['dropout_37[0][0]']             \n",
      "                                                                                                  \n",
      " dropout_44 (Dropout)           (None, 3, 4)         0           ['activation_32[0][0]']          \n",
      "                                                                                                  \n",
      " dropout_38 (Dropout)           (None, 4, 4)         0           ['decoder_1[0][0]']              \n",
      "                                                                                                  \n",
      " sig_decoder_1 (Conv1D)         (None, 3, 4)         84          ['dropout_44[0][0]']             \n",
      "                                                                                                  \n",
      " activation_27 (Activation)     (None, 4, 4)         0           ['dropout_38[0][0]']             \n",
      "                                                                                                  \n",
      " dropout_45 (Dropout)           (None, 3, 4)         0           ['sig_decoder_1[0][0]']          \n",
      "                                                                                                  \n",
      " up_sampling1d_6 (UpSampling1D)  (None, 8, 4)        0           ['activation_27[0][0]']          \n",
      "                                                                                                  \n",
      " activation_33 (Activation)     (None, 3, 4)         0           ['dropout_45[0][0]']             \n",
      "                                                                                                  \n",
      " dropout_39 (Dropout)           (None, 8, 4)         0           ['up_sampling1d_6[0][0]']        \n",
      "                                                                                                  \n",
      " up_sampling1d_8 (UpSampling1D)  (None, 9, 4)        0           ['activation_33[0][0]']          \n",
      "                                                                                                  \n",
      " decoder_2 (Conv1D)             (None, 8, 8)         232         ['dropout_39[0][0]']             \n",
      "                                                                                                  \n",
      " dropout_46 (Dropout)           (None, 9, 4)         0           ['up_sampling1d_8[0][0]']        \n",
      "                                                                                                  \n",
      " activation_28 (Activation)     (None, 8, 8)         0           ['decoder_2[0][0]']              \n"
     ]
    },
    {
     "name": "stdout",
     "output_type": "stream",
     "text": [
      "                                                                                                  \n",
      " sig_decoder_2 (Conv1D)         (None, 9, 8)         232         ['dropout_46[0][0]']             \n",
      "                                                                                                  \n",
      " up_sampling1d_7 (UpSampling1D)  (None, 16, 8)       0           ['activation_28[0][0]']          \n",
      "                                                                                                  \n",
      " activation_34 (Activation)     (None, 9, 8)         0           ['sig_decoder_2[0][0]']          \n",
      "                                                                                                  \n",
      " dropout_40 (Dropout)           (None, 16, 8)        0           ['up_sampling1d_7[0][0]']        \n",
      "                                                                                                  \n",
      " dropout_47 (Dropout)           (None, 9, 8)         0           ['activation_34[0][0]']          \n",
      "                                                                                                  \n",
      " decoder_3 (Conv1D)             (None, 16, 5)        205         ['dropout_40[0][0]']             \n",
      "                                                                                                  \n",
      " sig_decoder_3 (Conv1D)         (None, 9, 1)         41          ['dropout_47[0][0]']             \n",
      "                                                                                                  \n",
      " activation_29 (Activation)     (None, 16, 5)        0           ['decoder_3[0][0]']              \n",
      "                                                                                                  \n",
      " activation_35 (Activation)     (None, 9, 1)         0           ['sig_decoder_3[0][0]']          \n",
      "                                                                                                  \n",
      " flatten_4 (Flatten)            (None, 80)           0           ['activation_29[0][0]']          \n",
      "                                                                                                  \n",
      " flatten_5 (Flatten)            (None, 9)            0           ['activation_35[0][0]']          \n",
      "                                                                                                  \n",
      " concatenate_2 (Concatenate)    (None, 89)           0           ['flatten_4[0][0]',              \n",
      "                                                                  'flatten_5[0][0]']              \n",
      "                                                                                                  \n",
      " dense_8 (Dense)                (None, 100)          9000        ['concatenate_2[0][0]']          \n",
      "                                                                                                  \n",
      " leaky_re_lu_6 (LeakyReLU)      (None, 100)          0           ['dense_8[0][0]']                \n",
      "                                                                                                  \n",
      " batch_normalization_6 (BatchNo  (None, 100)         400         ['leaky_re_lu_6[0][0]']          \n",
      " rmalization)                                                                                     \n",
      "                                                                                                  \n",
      " dropout_48 (Dropout)           (None, 100)          0           ['batch_normalization_6[0][0]']  \n",
      "                                                                                                  \n",
      " dense_9 (Dense)                (None, 75)           7575        ['dropout_48[0][0]']             \n",
      "                                                                                                  \n",
      " leaky_re_lu_7 (LeakyReLU)      (None, 75)           0           ['dense_9[0][0]']                \n",
      "                                                                                                  \n",
      " batch_normalization_7 (BatchNo  (None, 75)          300         ['leaky_re_lu_7[0][0]']          \n",
      " rmalization)                                                                                     \n",
      "                                                                                                  \n",
      " dropout_49 (Dropout)           (None, 75)           0           ['batch_normalization_7[0][0]']  \n",
      "                                                                                                  \n",
      " dense_10 (Dense)               (None, 50)           3800        ['dropout_49[0][0]']             \n",
      "                                                                                                  \n",
      " leaky_re_lu_8 (LeakyReLU)      (None, 50)           0           ['dense_10[0][0]']               \n",
      "                                                                                                  \n",
      " batch_normalization_8 (BatchNo  (None, 50)          200         ['leaky_re_lu_8[0][0]']          \n",
      " rmalization)                                                                                     \n",
      "                                                                                                  \n",
      " dropout_50 (Dropout)           (None, 50)           0           ['batch_normalization_8[0][0]']  \n",
      "                                                                                                  \n",
      " dense_11 (Dense)               (None, 1)            51          ['dropout_50[0][0]']             \n",
      "                                                                                                  \n",
      "==================================================================================================\n",
      "Total params: 24,932\n",
      "Trainable params: 24,482\n",
      "Non-trainable params: 450\n",
      "__________________________________________________________________________________________________\n"
     ]
    }
   ],
   "source": [
    "\n",
    "nano_model_1 = nano_model(modes=['sequence','signal'], params=params)\n",
    "nano_model_1.summary()\n"
   ]
  },
  {
   "cell_type": "code",
   "execution_count": 84,
   "metadata": {},
   "outputs": [
    {
     "name": "stdout",
     "output_type": "stream",
     "text": [
      "Epoch 1/20\n",
      "547/547 [==============================] - 28s 41ms/step - loss: 0.4888 - accuracy: 0.8976 - val_loss: 0.2872 - val_accuracy: 0.9320\n",
      "Epoch 2/20\n",
      "547/547 [==============================] - 23s 42ms/step - loss: 0.2880 - accuracy: 0.9299 - val_loss: 0.2612 - val_accuracy: 0.9320\n",
      "Epoch 3/20\n",
      "547/547 [==============================] - 25s 45ms/step - loss: 0.2669 - accuracy: 0.9306 - val_loss: 0.2531 - val_accuracy: 0.9320\n",
      "Epoch 4/20\n",
      "547/547 [==============================] - 26s 48ms/step - loss: 0.2600 - accuracy: 0.9308 - val_loss: 0.2505 - val_accuracy: 0.9320\n",
      "Epoch 5/20\n",
      "547/547 [==============================] - 25s 45ms/step - loss: 0.2563 - accuracy: 0.9312 - val_loss: 0.2490 - val_accuracy: 0.9320\n",
      "Epoch 6/20\n",
      "547/547 [==============================] - 24s 44ms/step - loss: 0.2542 - accuracy: 0.9312 - val_loss: 0.2485 - val_accuracy: 0.9320\n",
      "Epoch 7/20\n",
      "547/547 [==============================] - 24s 44ms/step - loss: 0.2532 - accuracy: 0.9312 - val_loss: 0.2484 - val_accuracy: 0.9320\n",
      "Epoch 8/20\n",
      "547/547 [==============================] - 24s 44ms/step - loss: 0.2527 - accuracy: 0.9312 - val_loss: 0.2490 - val_accuracy: 0.9320\n",
      "Epoch 9/20\n",
      "547/547 [==============================] - 24s 44ms/step - loss: 0.2521 - accuracy: 0.9312 - val_loss: 0.2485 - val_accuracy: 0.9320\n",
      "Epoch 10/20\n",
      "547/547 [==============================] - 24s 43ms/step - loss: 0.2517 - accuracy: 0.9312 - val_loss: 0.2483 - val_accuracy: 0.9320\n",
      "Epoch 11/20\n",
      "547/547 [==============================] - 25s 47ms/step - loss: 0.2516 - accuracy: 0.9312 - val_loss: 0.2484 - val_accuracy: 0.9320\n",
      "Epoch 12/20\n",
      "547/547 [==============================] - 25s 45ms/step - loss: 0.2515 - accuracy: 0.9312 - val_loss: 0.2483 - val_accuracy: 0.9320\n",
      "Epoch 13/20\n",
      "547/547 [==============================] - 24s 44ms/step - loss: 0.2515 - accuracy: 0.9312 - val_loss: 0.2485 - val_accuracy: 0.9320\n",
      "Epoch 14/20\n",
      "547/547 [==============================] - 25s 46ms/step - loss: 0.2512 - accuracy: 0.9312 - val_loss: 0.2484 - val_accuracy: 0.9320\n",
      "Epoch 15/20\n",
      "547/547 [==============================] - 17s 31ms/step - loss: 0.2512 - accuracy: 0.9312 - val_loss: 0.2484 - val_accuracy: 0.9320\n",
      "Epoch 16/20\n",
      "547/547 [==============================] - 13s 24ms/step - loss: 0.2511 - accuracy: 0.9312 - val_loss: 0.2484 - val_accuracy: 0.9320\n",
      "Epoch 17/20\n",
      "547/547 [==============================] - 12s 22ms/step - loss: 0.2511 - accuracy: 0.9312 - val_loss: 0.2490 - val_accuracy: 0.9320\n",
      "Epoch 18/20\n",
      "547/547 [==============================] - 13s 24ms/step - loss: 0.2508 - accuracy: 0.9312 - val_loss: 0.2484 - val_accuracy: 0.9320\n",
      "Epoch 19/20\n",
      "547/547 [==============================] - 11s 21ms/step - loss: 0.2508 - accuracy: 0.9312 - val_loss: 0.2484 - val_accuracy: 0.9320\n",
      "Epoch 20/20\n",
      "547/547 [==============================] - 11s 21ms/step - loss: 0.2508 - accuracy: 0.9312 - val_loss: 0.2483 - val_accuracy: 0.9320\n"
     ]
    }
   ],
   "source": [
    "# implement grid search for batch size number of filters and filter size\n",
    "param_grid = dict(batch_size=[10,20,30])\n",
    "\n",
    "#for i param_grid\n",
    "\n",
    "#history = nano_model_1.fit(X_train, Y_train, batch_size = 256, epochs = 20, shuffle = True, validation_split = 0.2, verbose = 1, callbacks = callbacks)\n",
    "history = nano_model_1.fit(\n",
    "    [X_train_seq, X_train_signal],  # list for 2 x train \n",
    "    Y_train,  # list for 2 y train\n",
    "    batch_size=256,\n",
    "    epochs=20,\n",
    "    shuffle=True,\n",
    "    validation_split=0.3,\n",
    "    verbose=1,\n",
    "    callbacks=callbacks\n",
    ")\n"
   ]
  },
  {
   "cell_type": "code",
   "execution_count": 178,
   "metadata": {},
   "outputs": [],
   "source": [
    "# https://stackoverflow.com/questions/43533610/how-to-use-hyperopt-for-hyperparameter-optimization-of-keras-deep-learning-netwo"
   ]
  },
  {
   "cell_type": "code",
   "execution_count": 179,
   "metadata": {},
   "outputs": [],
   "source": [
    "# input = layers.Input(shape=(32, 16, 3))\n",
    "\n",
    "# # Encoder\n",
    "# x = layers.Conv2D(32, (3, 3), activation=\"relu\", padding=\"same\")(input)\n",
    "# x = layers.MaxPooling2D((2, 2), padding=\"same\")(x)\n",
    "# x = layers.Conv2D(32, (3, 3), activation=\"relu\", padding=\"same\")(x)\n",
    "# x = layers.MaxPooling2D((2, 2), padding=\"same\")(x)\n",
    "\n",
    "# # Decoder\n",
    "# x = layers.Conv2DTranspose(32, (3, 3), strides=2, activation=\"relu\", padding=\"same\")(x)\n",
    "# x = layers.Conv2DTranspose(32, (3, 3), strides=2, activation=\"relu\", padding=\"same\")(x)\n",
    "# x = layers.Conv2D(6, (3, 3), activation=\"softmax\", padding=\"same\")(x)\n",
    "\n",
    "# # Autoencoder\n",
    "# autoencoder = Model(input, x)\n",
    "# autoencoder.compile(opti\n",
    "# mizer=\"adam\", loss=\"binary_crossentropy\")\n",
    "# autoencoder.summary()"
   ]
  },
  {
   "cell_type": "code",
   "execution_count": 180,
   "metadata": {},
   "outputs": [],
   "source": [
    "#nano_model_1.load_weights(\"checkpoints/best_model.h5\")"
   ]
  },
  {
   "cell_type": "code",
   "execution_count": 27,
   "metadata": {},
   "outputs": [
    {
     "name": "stdout",
     "output_type": "stream",
     "text": [
      "[[0.06602781]\n",
      " [0.06602781]\n",
      " [0.06602781]\n",
      " [0.06602781]\n",
      " [0.06602781]]\n"
     ]
    }
   ],
   "source": [
    "pred = nano_model_1([X_train_seq,X_train_signal])\n",
    "#print(pred.shape)\n",
    "\n",
    "X_pred = pred.numpy()\n",
    "\n",
    "#print(X_pred.shape)\n",
    "#print(X_pred.reshape(200000, 9).shape)\n",
    "print(X_pred[0:5,:])"
   ]
  },
  {
   "cell_type": "code",
   "execution_count": 28,
   "metadata": {},
   "outputs": [
    {
     "data": {
      "image/png": "[encoded data removed]",
      "text/plain": [
       "<Figure size 625x500 with 1 Axes>"
      ]
     },
     "metadata": {},
     "output_type": "display_data"
    }
   ],
   "source": [
    "my_history = history\n",
    "sparam = \"1\"\n",
    "fig, ax1 = plt.subplots(nrows = 1, ncols = 1, figsize=(5,4))\n",
    "ax1.plot(my_history.history[\"loss\"], label = \"training\")\n",
    "ax1.plot(my_history.history[\"val_loss\"], label = \"validation\")\n",
    "ax1.legend()\n",
    "ax1.set(title='', xlabel='Epochs', ylabel = 'Categorial crossentropy')\n",
    "\n",
    "fig.tight_layout()\n",
    "fig_file = \"sig.CNN.evaluation.\" + str(sparam) + \".pdf\"\n",
    "fig.savefig(fig_file)"
   ]
  },
  {
   "cell_type": "code",
   "execution_count": 47,
   "metadata": {},
   "outputs": [
    {
     "name": "stdout",
     "output_type": "stream",
     "text": [
      "Model: \"model_18\"\n",
      "__________________________________________________________________________________________________\n",
      " Layer (type)                   Output Shape         Param #     Connected to                     \n",
      "==================================================================================================\n",
      " sequence_input (InputLayer)    [(None, 16, 5)]      0           []                               \n",
      "                                                                                                  \n",
      " dropout (Dropout)              (None, 16, 5)        0           ['sequence_input[0][0]']         \n",
      "                                                                                                  \n",
      " encoder_1 (Conv1D)             (None, 16, 16)       416         ['dropout[0][0]']                \n",
      "                                                                                                  \n",
      " activation (Activation)        (None, 16, 16)       0           ['encoder_1[0][0]']              \n",
      "                                                                                                  \n",
      " max_pooling1d (MaxPooling1D)   (None, 8, 16)        0           ['activation[0][0]']             \n",
      "                                                                                                  \n",
      " dropout_1 (Dropout)            (None, 8, 16)        0           ['max_pooling1d[0][0]']          \n",
      "                                                                                                  \n",
      " encoder_2 (Conv1D)             (None, 8, 8)         904         ['dropout_1[0][0]']              \n",
      "                                                                                                  \n",
      " activation_1 (Activation)      (None, 8, 8)         0           ['encoder_2[0][0]']              \n",
      "                                                                                                  \n",
      " max_pooling1d_1 (MaxPooling1D)  (None, 4, 8)        0           ['activation_1[0][0]']           \n",
      "                                                                                                  \n",
      " dropout_2 (Dropout)            (None, 4, 8)         0           ['max_pooling1d_1[0][0]']        \n",
      "                                                                                                  \n",
      " signal_input (InputLayer)      [(None, 9, 2)]       0           []                               \n",
      "                                                                                                  \n",
      " encoder_3 (Conv1D)             (None, 4, 4)         164         ['dropout_2[0][0]']              \n",
      "                                                                                                  \n",
      "==================================================================================================\n",
      "Total params: 1,484\n",
      "Trainable params: 1,484\n",
      "Non-trainable params: 0\n",
      "__________________________________________________________________________________________________\n",
      "None\n"
     ]
    }
   ],
   "source": [
    "#we have two branches now, which one should we select for encoder layers?\n",
    "\n",
    "encoder = Model(nano_model_1.input, nano_model_1.layers[19].output)\n",
    "print(encoder.summary())"
   ]
  },
  {
   "cell_type": "code",
   "execution_count": 49,
   "metadata": {},
   "outputs": [
    {
     "name": "stdout",
     "output_type": "stream",
     "text": [
      "6250/6250 [==============================] - 6s 974us/step\n"
     ]
    }
   ],
   "source": [
    "X_embed =  encoder.predict([X_train_seq, X_train_signal])"
   ]
  },
  {
   "cell_type": "code",
   "execution_count": null,
   "metadata": {},
   "outputs": [],
   "source": []
  },
  {
   "cell_type": "code",
   "execution_count": null,
   "metadata": {},
   "outputs": [],
   "source": []
  },
  {
   "cell_type": "code",
   "execution_count": 62,
   "metadata": {},
   "outputs": [
    {
     "data": {
      "text/html": [
       "<div>\n",
       "<style scoped>\n",
       "    .dataframe tbody tr th:only-of-type {\n",
       "        vertical-align: middle;\n",
       "    }\n",
       "\n",
       "    .dataframe tbody tr th {\n",
       "        vertical-align: top;\n",
       "    }\n",
       "\n",
       "    .dataframe thead th {\n",
       "        text-align: right;\n",
       "    }\n",
       "</style>\n",
       "<table border=\"1\" class=\"dataframe\">\n",
       "  <thead>\n",
       "    <tr style=\"text-align: right;\">\n",
       "      <th></th>\n",
       "      <th>rRNA.start</th>\n",
       "      <th>kmer</th>\n",
       "      <th>Unnamed: 2</th>\n",
       "      <th>G-test p-value</th>\n",
       "      <th>G-test FDR</th>\n",
       "      <th>Control sample estimated fraction modified</th>\n",
       "      <th>Treatment sample estimated fraction modified</th>\n",
       "      <th>KS statistic</th>\n",
       "    </tr>\n",
       "  </thead>\n",
       "  <tbody>\n",
       "    <tr>\n",
       "      <th>0</th>\n",
       "      <td>1</td>\n",
       "      <td>NR_003278.3:CCTGG</td>\n",
       "      <td>3.28</td>\n",
       "      <td>2.500000e-40</td>\n",
       "      <td>2.800000e-40</td>\n",
       "      <td>0.40</td>\n",
       "      <td>0.95</td>\n",
       "      <td>0.58</td>\n",
       "    </tr>\n",
       "    <tr>\n",
       "      <th>1</th>\n",
       "      <td>2</td>\n",
       "      <td>NR_003278.3:CTGGT</td>\n",
       "      <td>2.35</td>\n",
       "      <td>9.500000e-59</td>\n",
       "      <td>1.100000e-58</td>\n",
       "      <td>0.43</td>\n",
       "      <td>0.89</td>\n",
       "      <td>0.37</td>\n",
       "    </tr>\n",
       "    <tr>\n",
       "      <th>2</th>\n",
       "      <td>3</td>\n",
       "      <td>NR_003278.3:TGGTT</td>\n",
       "      <td>2.99</td>\n",
       "      <td>5.000000e-68</td>\n",
       "      <td>5.600000e-68</td>\n",
       "      <td>0.54</td>\n",
       "      <td>0.96</td>\n",
       "      <td>0.27</td>\n",
       "    </tr>\n",
       "    <tr>\n",
       "      <th>3</th>\n",
       "      <td>4</td>\n",
       "      <td>NR_003278.3:GGTTG</td>\n",
       "      <td>-0.74</td>\n",
       "      <td>1.600000e-08</td>\n",
       "      <td>1.600000e-08</td>\n",
       "      <td>0.65</td>\n",
       "      <td>0.47</td>\n",
       "      <td>0.34</td>\n",
       "    </tr>\n",
       "    <tr>\n",
       "      <th>4</th>\n",
       "      <td>5</td>\n",
       "      <td>NR_003278.3:GTTGA</td>\n",
       "      <td>2.13</td>\n",
       "      <td>3.300000e-18</td>\n",
       "      <td>3.500000e-18</td>\n",
       "      <td>0.73</td>\n",
       "      <td>0.96</td>\n",
       "      <td>0.10</td>\n",
       "    </tr>\n",
       "    <tr>\n",
       "      <th>...</th>\n",
       "      <td>...</td>\n",
       "      <td>...</td>\n",
       "      <td>...</td>\n",
       "      <td>...</td>\n",
       "      <td>...</td>\n",
       "      <td>...</td>\n",
       "      <td>...</td>\n",
       "      <td>...</td>\n",
       "    </tr>\n",
       "    <tr>\n",
       "      <th>1580</th>\n",
       "      <td>1860</td>\n",
       "      <td>NR_003278.3:GGATC</td>\n",
       "      <td>-0.92</td>\n",
       "      <td>0.000000e+00</td>\n",
       "      <td>0.000000e+00</td>\n",
       "      <td>0.67</td>\n",
       "      <td>0.45</td>\n",
       "      <td>0.07</td>\n",
       "    </tr>\n",
       "    <tr>\n",
       "      <th>1581</th>\n",
       "      <td>1861</td>\n",
       "      <td>NR_003278.3:GATCA</td>\n",
       "      <td>1.07</td>\n",
       "      <td>1.300000e-23</td>\n",
       "      <td>1.300000e-23</td>\n",
       "      <td>0.00</td>\n",
       "      <td>0.00</td>\n",
       "      <td>0.15</td>\n",
       "    </tr>\n",
       "    <tr>\n",
       "      <th>1582</th>\n",
       "      <td>1862</td>\n",
       "      <td>NR_003278.3:ATCAT</td>\n",
       "      <td>-0.57</td>\n",
       "      <td>0.000000e+00</td>\n",
       "      <td>0.000000e+00</td>\n",
       "      <td>0.48</td>\n",
       "      <td>0.35</td>\n",
       "      <td>0.11</td>\n",
       "    </tr>\n",
       "    <tr>\n",
       "      <th>1583</th>\n",
       "      <td>1863</td>\n",
       "      <td>NR_003278.3:TCATT</td>\n",
       "      <td>-2.92</td>\n",
       "      <td>0.000000e+00</td>\n",
       "      <td>0.000000e+00</td>\n",
       "      <td>0.34</td>\n",
       "      <td>0.03</td>\n",
       "      <td>0.24</td>\n",
       "    </tr>\n",
       "    <tr>\n",
       "      <th>1584</th>\n",
       "      <td>1864</td>\n",
       "      <td>NR_003278.3:CATTA</td>\n",
       "      <td>-0.60</td>\n",
       "      <td>2.800000e-216</td>\n",
       "      <td>3.500000e-216</td>\n",
       "      <td>0.08</td>\n",
       "      <td>0.05</td>\n",
       "      <td>0.09</td>\n",
       "    </tr>\n",
       "  </tbody>\n",
       "</table>\n",
       "<p>1585 rows × 8 columns</p>\n",
       "</div>"
      ],
      "text/plain": [
       "      rRNA.start               kmer  Unnamed: 2  G-test p-value  \\\n",
       "0              1  NR_003278.3:CCTGG        3.28    2.500000e-40   \n",
       "1              2  NR_003278.3:CTGGT        2.35    9.500000e-59   \n",
       "2              3  NR_003278.3:TGGTT        2.99    5.000000e-68   \n",
       "3              4  NR_003278.3:GGTTG       -0.74    1.600000e-08   \n",
       "4              5  NR_003278.3:GTTGA        2.13    3.300000e-18   \n",
       "...          ...                ...         ...             ...   \n",
       "1580        1860  NR_003278.3:GGATC       -0.92    0.000000e+00   \n",
       "1581        1861  NR_003278.3:GATCA        1.07    1.300000e-23   \n",
       "1582        1862  NR_003278.3:ATCAT       -0.57    0.000000e+00   \n",
       "1583        1863  NR_003278.3:TCATT       -2.92    0.000000e+00   \n",
       "1584        1864  NR_003278.3:CATTA       -0.60   2.800000e-216   \n",
       "\n",
       "         G-test FDR  Control sample estimated fraction modified  \\\n",
       "0      2.800000e-40                                        0.40   \n",
       "1      1.100000e-58                                        0.43   \n",
       "2      5.600000e-68                                        0.54   \n",
       "3      1.600000e-08                                        0.65   \n",
       "4      3.500000e-18                                        0.73   \n",
       "...             ...                                         ...   \n",
       "1580   0.000000e+00                                        0.67   \n",
       "1581   1.300000e-23                                        0.00   \n",
       "1582   0.000000e+00                                        0.48   \n",
       "1583   0.000000e+00                                        0.34   \n",
       "1584  3.500000e-216                                        0.08   \n",
       "\n",
       "      Treatment sample estimated fraction modified  KS statistic  \n",
       "0                                             0.95          0.58  \n",
       "1                                             0.89          0.37  \n",
       "2                                             0.96          0.27  \n",
       "3                                             0.47          0.34  \n",
       "4                                             0.96          0.10  \n",
       "...                                            ...           ...  \n",
       "1580                                          0.45          0.07  \n",
       "1581                                          0.00          0.15  \n",
       "1582                                          0.35          0.11  \n",
       "1583                                          0.03          0.24  \n",
       "1584                                          0.05          0.09  \n",
       "\n",
       "[1585 rows x 8 columns]"
      ]
     },
     "execution_count": 62,
     "metadata": {},
     "output_type": "execute_result"
    }
   ],
   "source": [
    "yanocomp_data = pd.read_csv(\"hgla.liver.2_hgla.ivt.1.diff.rrna.18S.1.xls\", sep=\"\\t\", header=0)\n",
    "yanocomp_data"
   ]
  },
  {
   "cell_type": "code",
   "execution_count": 63,
   "metadata": {},
   "outputs": [
    {
     "name": "stdout",
     "output_type": "stream",
     "text": [
      "96\n"
     ]
    }
   ],
   "source": [
    "\n",
    "#sel = yano[(abs(yano['Unnamed: 2']) > 6 & yano['KS statistic'] > 0.1), :]\n",
    "yano_sig = yanocomp_data[abs(yanocomp_data['Unnamed: 2']) > 8]\n",
    "yano_sig_1 = yano_sig['rRNA.start']+3\n",
    "yano_pos = yano_sig_1.to_list()\n",
    "\n",
    "print(yano_pos.__len__())\n",
    "#len(yano_pos)\n",
    "\n",
    "#print(data[\"center.pos\"][3])\n",
    "#data.head(5)\n",
    "yano_colors = []"
   ]
  },
  {
   "cell_type": "code",
   "execution_count": 64,
   "metadata": {},
   "outputs": [],
   "source": [
    "yano_pos = [item for item in yano_pos if item not in psi_modification]"
   ]
  },
  {
   "cell_type": "code",
   "execution_count": 65,
   "metadata": {},
   "outputs": [],
   "source": [
    "\n",
    "for i in range(0, X_embed[0:50000,:].shape[0]):\n",
    "    if data[\"center.pos\"][i] in psi_modification:\n",
    "        yano_colors.append('red')\n",
    "    elif data[\"center.pos\"][i] in yano_pos:  \n",
    "        yano_colors.append('blue')\n",
    "    else:\n",
    "        yano_colors.append('lightgray')"
   ]
  },
  {
   "cell_type": "code",
   "execution_count": 66,
   "metadata": {},
   "outputs": [
    {
     "data": {
      "text/plain": [
       "3464"
      ]
     },
     "execution_count": 66,
     "metadata": {},
     "output_type": "execute_result"
    }
   ],
   "source": [
    "yano_colors.count('red')"
   ]
  },
  {
   "cell_type": "code",
   "execution_count": 67,
   "metadata": {},
   "outputs": [
    {
     "data": {
      "text/plain": [
       "1635"
      ]
     },
     "execution_count": 67,
     "metadata": {},
     "output_type": "execute_result"
    }
   ],
   "source": [
    "yano_colors.count('blue')"
   ]
  },
  {
   "cell_type": "code",
   "execution_count": 68,
   "metadata": {},
   "outputs": [
    {
     "data": {
      "text/plain": [
       "44901"
      ]
     },
     "execution_count": 68,
     "metadata": {},
     "output_type": "execute_result"
    }
   ],
   "source": [
    "yano_colors.count('lightgray')"
   ]
  },
  {
   "cell_type": "code",
   "execution_count": 69,
   "metadata": {},
   "outputs": [
    {
     "data": {
      "text/plain": [
       "(50000, 4, 4)"
      ]
     },
     "execution_count": 69,
     "metadata": {},
     "output_type": "execute_result"
    }
   ],
   "source": [
    "X_embed[0:50000,:].shape"
   ]
  },
  {
   "cell_type": "code",
   "execution_count": 70,
   "metadata": {},
   "outputs": [],
   "source": [
    "#ts_embed_1 = TSNE(n_components=3, perplexity=10).fit_transform(X_embed[0:50000,:].reshape(50000, 3*4))\n",
    "ts_embed_2 = TSNE(n_components=2, perplexity=20).fit_transform(X_embed[0:50000,:].reshape(50000, 4*4))\n",
    "#ts_embed_3 = TSNE(n_components=3, perplexity=30).fit_transform(X_embed[0:50000,:].reshape(50000, 3*4))\n"
   ]
  },
  {
   "cell_type": "code",
   "execution_count": 71,
   "metadata": {},
   "outputs": [
    {
     "data": {
      "image/png": "[encoded data removed]",
      "text/plain": [
       "<Figure size 1500x500 with 3 Axes>"
      ]
     },
     "metadata": {},
     "output_type": "display_data"
    }
   ],
   "source": [
    "\n",
    "\n",
    "fig, (ax1, ax2, ax3) = plt.subplots(nrows = 1, ncols = 3, figsize=(12,4))\n",
    "# 2D\n",
    "# ax1.scatter(ts_embed_1[:,0].tolist(), ts_embed_1[:,1].tolist(), s=1, color=yano_colors, label = \"training\")\n",
    "# ax1.scatter(ts_embed_1[pd.Series(yano_colors) == \"red\", 0], ts_embed_1[pd.Series(yano_colors) == \"red\", 1], s=10, color=\"red\")\n",
    "# ax1.set_facecolor('white')\n",
    "# #ax1.legend(\"yanocomp sig\")\n",
    "# ax1.set(title='perplexity=10', xlabel='TSNE_1', ylabel = 'TSNE_2')\n",
    "ax2.scatter(ts_embed_2[:,0].tolist(), ts_embed_2[:,1].tolist(), s=1, color=yano_colors, label = \"training\")\n",
    "ax2.scatter(ts_embed_2[pd.Series(yano_colors) == \"red\", 0], ts_embed_2[pd.Series(yano_colors) == \"red\", 1], s=10, color=\"red\")\n",
    "ax2.set_facecolor('white')\n",
    "#ax2.legend(\"yanocomp sig\")\n",
    "ax2.set(title='perplexity=20', xlabel='TSNE_1', ylabel = 'TSNE_2')\n",
    "# ax3.scatter(ts_embed_3[:,0].tolist(), ts_embed_3[:,1].tolist(), s=1, color=yano_colors, label = \"training\")\n",
    "# ax3.scatter(ts_embed_3[pd.Series(yano_colors) == \"red\", 0], ts_embed_3[pd.Series(yano_colors) == \"red\", 1], s=10, color=\"red\")\n",
    "# ax3.set_facecolor('white')\n",
    "# #ax3.legend(\"yanocomp sig\")\n",
    "# ax3.set(title='perplexity=30', xlabel='TSNE_1', ylabel = 'TSNE_2')\n",
    "\n",
    "fig.tight_layout()\n",
    "fig_file = \"singal.X_embedding.2D.evaluation.\" + str(sparam) + \".pdf\"\n",
    "fig.savefig(fig_file)\n",
    "\n"
   ]
  },
  {
   "cell_type": "code",
   "execution_count": 73,
   "metadata": {},
   "outputs": [
    {
     "name": "stdout",
     "output_type": "stream",
     "text": [
      "Silhouette Score for 'red' and 'gray' data:  -0.0053654886\n"
     ]
    }
   ],
   "source": [
    "import numpy as np\n",
    "from sklearn.metrics import silhouette_score\n",
    "\n",
    "# Mapping of colors to labels\n",
    "color_to_label_map = {\n",
    "    'red': 0,\n",
    "    'blue': 1,\n",
    "    'lightgray': 2\n",
    "}\n",
    "\n",
    "# Convert colors to labels based on the mapping\n",
    "labels = np.array([color_to_label_map[color] for color in yano_colors])\n",
    "\n",
    "# Create a filter to select data points with labels 'red' or 'gray'\n",
    "red_gray_filter = (labels == 0) | (labels == 2)\n",
    "\n",
    "# Select data points with labels 'red' and 'gray' using the filter\n",
    "red_gray_data = ts_embed_2[red_gray_filter]\n",
    "\n",
    "# Compute the silhouette score for data points with labels 'red' and 'gray'\n",
    "red_gray_sil_score = silhouette_score(red_gray_data, labels[red_gray_filter])\n",
    "\n",
    "print(\"Silhouette Score for 'red' and 'gray' data: \", red_gray_sil_score)"
   ]
  },
  {
   "cell_type": "code",
   "execution_count": 37,
   "metadata": {},
   "outputs": [
    {
     "data": {
      "image/png": "[encoded data removed]",
      "text/plain": [
       "<Figure size 1500x625 with 1 Axes>"
      ]
     },
     "metadata": {},
     "output_type": "display_data"
    }
   ],
   "source": [
    "# 3D\n",
    "\n",
    "fig = plt.figure(figsize=(12, 5))\n",
    "#plt.figure(figsize=(16, 16))\n",
    "# ax1 = fig.add_subplot(131, projection=\"3d\")\n",
    "# ax1.scatter(ts_embed_1[:, 0], ts_embed_1[:, 1], ts_embed_1[:,2], color=yano_colors, s=1)\n",
    "# ax1.set_facecolor('white')\n",
    "# ax1.set(title='perplexity=10', xlabel='TSNE_1', ylabel = 'TSNE_2', zlabel=\"TSNE_3\")\n",
    "\n",
    "ax2 = fig.add_subplot(132, projection=\"3d\")\n",
    "ax2.scatter(ts_embed_2[:, 0], ts_embed_2[:, 1], ts_embed_2[:,2], color=yano_colors, s=1)\n",
    "ax2.set_facecolor('white')\n",
    "ax2.set(title='perplexity=20', xlabel='TSNE_1', ylabel = 'TSNE_2', zlabel=\"TSNE_3\")\n",
    "\n",
    "\n",
    "# ax3 = fig.add_subplot(133, projection=\"3d\")\n",
    "# ax3.scatter(ts_embed_3[:, 0], ts_embed_3[:, 1], ts_embed_3[:,2], color=yano_colors, s=1)\n",
    "# ax3.set_facecolor('white')\n",
    "# ax3.set(title='perplexity=30', xlabel='TSNE_1', ylabel = 'TSNE_2', zlabel=\"TSNE_3\")\n",
    "\n",
    "#plt.scatter(z[:, 0], z[:, 1], s=20)\n",
    "fig.tight_layout()\n",
    "\n",
    "fig_file = \"signal.X_embedding.3D.evaluation.\" + str(sparam) + \".pdf\"\n",
    "fig.savefig(fig_file)"
   ]
  },
  {
   "cell_type": "code",
   "execution_count": null,
   "metadata": {},
   "outputs": [],
   "source": []
  }
 ],
 "metadata": {
  "kernelspec": {
   "display_name": "Python 3 (ipykernel)",
   "language": "python",
   "name": "python3"
  },
  "language_info": {
   "codemirror_mode": {
    "name": "ipython",
    "version": 3
   },
   "file_extension": ".py",
   "mimetype": "text/x-python",
   "name": "python",
   "nbconvert_exporter": "python",
   "pygments_lexer": "ipython3",
   "version": "3.9.7"
  }
 },
 "nbformat": 4,
 "nbformat_minor": 2
}
